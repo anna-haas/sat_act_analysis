{
 "cells": [
  {
   "cell_type": "markdown",
   "metadata": {},
   "source": [
    "# SAT & ACT Participation Analysis: EDA\n",
    "***"
   ]
  },
  {
   "cell_type": "markdown",
   "metadata": {},
   "source": [
    "### Contents:\n",
    "- [Summary Statistics](#Summary-Statistics)\n",
    "- [Investigate Trends in the Data](#Investigate-Trends-in-the-Data)\n",
    "- [Plot the Data](#Plot-the-Data)\n",
    "- [Summarize Distributions](#Summarize-Distributions)"
   ]
  },
  {
   "cell_type": "markdown",
   "metadata": {},
   "source": [
    "*Import Libraries*"
   ]
  },
  {
   "cell_type": "code",
   "execution_count": 1,
   "metadata": {},
   "outputs": [],
   "source": [
    "import numpy as np          \n",
    "import pandas as pd\n",
    "import matplotlib.pyplot as plt   \n",
    "import seaborn as sns             \n",
    "\n",
    "%matplotlib inline"
   ]
  },
  {
   "cell_type": "markdown",
   "metadata": {},
   "source": [
    "#### Read In SAT & ACT  Data\n",
    "\n",
    "Read in the `final.csv` and assign to a dataframe."
   ]
  },
  {
   "cell_type": "code",
   "execution_count": 2,
   "metadata": {},
   "outputs": [],
   "source": [
    "# Read in the final data\n",
    "final = pd.read_csv('../data/final.csv')"
   ]
  },
  {
   "cell_type": "code",
   "execution_count": 3,
   "metadata": {},
   "outputs": [
    {
     "data": {
      "text/html": [
       "<div>\n",
       "<style scoped>\n",
       "    .dataframe tbody tr th:only-of-type {\n",
       "        vertical-align: middle;\n",
       "    }\n",
       "\n",
       "    .dataframe tbody tr th {\n",
       "        vertical-align: top;\n",
       "    }\n",
       "\n",
       "    .dataframe thead th {\n",
       "        text-align: right;\n",
       "    }\n",
       "</style>\n",
       "<table border=\"1\" class=\"dataframe\">\n",
       "  <thead>\n",
       "    <tr style=\"text-align: right;\">\n",
       "      <th></th>\n",
       "      <th>state</th>\n",
       "      <th>2017_sat_participation</th>\n",
       "      <th>2017_sat_ebrw</th>\n",
       "      <th>2017_sat_math</th>\n",
       "      <th>2017_sat_total</th>\n",
       "      <th>2017_act_participation</th>\n",
       "      <th>2017_act_english</th>\n",
       "      <th>2017_act_math</th>\n",
       "      <th>2017_act_reading</th>\n",
       "      <th>2017_act_science</th>\n",
       "      <th>2017_act_composite</th>\n",
       "      <th>2018_sat_participation</th>\n",
       "      <th>2018_sat_ebrw</th>\n",
       "      <th>2018_sat_math</th>\n",
       "      <th>2018_sat_total</th>\n",
       "      <th>2018_act_participation</th>\n",
       "      <th>2018_act_composite</th>\n",
       "    </tr>\n",
       "  </thead>\n",
       "  <tbody>\n",
       "    <tr>\n",
       "      <th>0</th>\n",
       "      <td>Alabama</td>\n",
       "      <td>0.05</td>\n",
       "      <td>593</td>\n",
       "      <td>572</td>\n",
       "      <td>1165</td>\n",
       "      <td>1.00</td>\n",
       "      <td>18.9</td>\n",
       "      <td>18.4</td>\n",
       "      <td>19.7</td>\n",
       "      <td>19.4</td>\n",
       "      <td>19.2</td>\n",
       "      <td>0.06</td>\n",
       "      <td>595</td>\n",
       "      <td>571</td>\n",
       "      <td>1166</td>\n",
       "      <td>1.00</td>\n",
       "      <td>19.1</td>\n",
       "    </tr>\n",
       "    <tr>\n",
       "      <th>1</th>\n",
       "      <td>Alaska</td>\n",
       "      <td>0.38</td>\n",
       "      <td>547</td>\n",
       "      <td>533</td>\n",
       "      <td>1080</td>\n",
       "      <td>0.65</td>\n",
       "      <td>18.7</td>\n",
       "      <td>19.8</td>\n",
       "      <td>20.4</td>\n",
       "      <td>19.9</td>\n",
       "      <td>19.8</td>\n",
       "      <td>0.43</td>\n",
       "      <td>562</td>\n",
       "      <td>544</td>\n",
       "      <td>1106</td>\n",
       "      <td>0.33</td>\n",
       "      <td>20.8</td>\n",
       "    </tr>\n",
       "    <tr>\n",
       "      <th>2</th>\n",
       "      <td>Arizona</td>\n",
       "      <td>0.30</td>\n",
       "      <td>563</td>\n",
       "      <td>553</td>\n",
       "      <td>1116</td>\n",
       "      <td>0.62</td>\n",
       "      <td>18.6</td>\n",
       "      <td>19.8</td>\n",
       "      <td>20.1</td>\n",
       "      <td>19.8</td>\n",
       "      <td>19.7</td>\n",
       "      <td>0.29</td>\n",
       "      <td>577</td>\n",
       "      <td>572</td>\n",
       "      <td>1149</td>\n",
       "      <td>0.66</td>\n",
       "      <td>19.2</td>\n",
       "    </tr>\n",
       "    <tr>\n",
       "      <th>3</th>\n",
       "      <td>Arkansas</td>\n",
       "      <td>0.03</td>\n",
       "      <td>614</td>\n",
       "      <td>594</td>\n",
       "      <td>1208</td>\n",
       "      <td>1.00</td>\n",
       "      <td>18.9</td>\n",
       "      <td>19.0</td>\n",
       "      <td>19.7</td>\n",
       "      <td>19.5</td>\n",
       "      <td>19.4</td>\n",
       "      <td>0.05</td>\n",
       "      <td>592</td>\n",
       "      <td>576</td>\n",
       "      <td>1169</td>\n",
       "      <td>1.00</td>\n",
       "      <td>19.4</td>\n",
       "    </tr>\n",
       "    <tr>\n",
       "      <th>4</th>\n",
       "      <td>California</td>\n",
       "      <td>0.53</td>\n",
       "      <td>531</td>\n",
       "      <td>524</td>\n",
       "      <td>1055</td>\n",
       "      <td>0.31</td>\n",
       "      <td>22.5</td>\n",
       "      <td>22.7</td>\n",
       "      <td>23.1</td>\n",
       "      <td>22.2</td>\n",
       "      <td>22.8</td>\n",
       "      <td>0.60</td>\n",
       "      <td>540</td>\n",
       "      <td>536</td>\n",
       "      <td>1076</td>\n",
       "      <td>0.27</td>\n",
       "      <td>22.7</td>\n",
       "    </tr>\n",
       "  </tbody>\n",
       "</table>\n",
       "</div>"
      ],
      "text/plain": [
       "        state  2017_sat_participation  2017_sat_ebrw  2017_sat_math  \\\n",
       "0     Alabama                    0.05            593            572   \n",
       "1      Alaska                    0.38            547            533   \n",
       "2     Arizona                    0.30            563            553   \n",
       "3    Arkansas                    0.03            614            594   \n",
       "4  California                    0.53            531            524   \n",
       "\n",
       "   2017_sat_total  2017_act_participation  2017_act_english  2017_act_math  \\\n",
       "0            1165                    1.00              18.9           18.4   \n",
       "1            1080                    0.65              18.7           19.8   \n",
       "2            1116                    0.62              18.6           19.8   \n",
       "3            1208                    1.00              18.9           19.0   \n",
       "4            1055                    0.31              22.5           22.7   \n",
       "\n",
       "   2017_act_reading  2017_act_science  2017_act_composite  \\\n",
       "0              19.7              19.4                19.2   \n",
       "1              20.4              19.9                19.8   \n",
       "2              20.1              19.8                19.7   \n",
       "3              19.7              19.5                19.4   \n",
       "4              23.1              22.2                22.8   \n",
       "\n",
       "   2018_sat_participation  2018_sat_ebrw  2018_sat_math  2018_sat_total  \\\n",
       "0                    0.06            595            571            1166   \n",
       "1                    0.43            562            544            1106   \n",
       "2                    0.29            577            572            1149   \n",
       "3                    0.05            592            576            1169   \n",
       "4                    0.60            540            536            1076   \n",
       "\n",
       "   2018_act_participation  2018_act_composite  \n",
       "0                    1.00                19.1  \n",
       "1                    0.33                20.8  \n",
       "2                    0.66                19.2  \n",
       "3                    1.00                19.4  \n",
       "4                    0.27                22.7  "
      ]
     },
     "execution_count": 3,
     "metadata": {},
     "output_type": "execute_result"
    }
   ],
   "source": [
    "# Look at the first 5 rows of the data\n",
    "final.head()"
   ]
  },
  {
   "cell_type": "code",
   "execution_count": 4,
   "metadata": {},
   "outputs": [
    {
     "data": {
      "text/plain": [
       "state                      object\n",
       "2017_sat_participation    float64\n",
       "2017_sat_ebrw               int64\n",
       "2017_sat_math               int64\n",
       "2017_sat_total              int64\n",
       "2017_act_participation    float64\n",
       "2017_act_english          float64\n",
       "2017_act_math             float64\n",
       "2017_act_reading          float64\n",
       "2017_act_science          float64\n",
       "2017_act_composite        float64\n",
       "2018_sat_participation    float64\n",
       "2018_sat_ebrw               int64\n",
       "2018_sat_math               int64\n",
       "2018_sat_total              int64\n",
       "2018_act_participation    float64\n",
       "2018_act_composite        float64\n",
       "dtype: object"
      ]
     },
     "execution_count": 4,
     "metadata": {},
     "output_type": "execute_result"
    }
   ],
   "source": [
    "# Check datatypes of each column\n",
    "final.dtypes"
   ]
  },
  {
   "cell_type": "markdown",
   "metadata": {},
   "source": [
    "## Summary Statistics"
   ]
  },
  {
   "cell_type": "code",
   "execution_count": 5,
   "metadata": {},
   "outputs": [
    {
     "data": {
      "text/html": [
       "<div>\n",
       "<style scoped>\n",
       "    .dataframe tbody tr th:only-of-type {\n",
       "        vertical-align: middle;\n",
       "    }\n",
       "\n",
       "    .dataframe tbody tr th {\n",
       "        vertical-align: top;\n",
       "    }\n",
       "\n",
       "    .dataframe thead th {\n",
       "        text-align: right;\n",
       "    }\n",
       "</style>\n",
       "<table border=\"1\" class=\"dataframe\">\n",
       "  <thead>\n",
       "    <tr style=\"text-align: right;\">\n",
       "      <th></th>\n",
       "      <th>count</th>\n",
       "      <th>mean</th>\n",
       "      <th>std</th>\n",
       "      <th>min</th>\n",
       "      <th>25%</th>\n",
       "      <th>50%</th>\n",
       "      <th>75%</th>\n",
       "      <th>max</th>\n",
       "    </tr>\n",
       "  </thead>\n",
       "  <tbody>\n",
       "    <tr>\n",
       "      <th>2017_sat_participation</th>\n",
       "      <td>51.0</td>\n",
       "      <td>0.398039</td>\n",
       "      <td>0.352766</td>\n",
       "      <td>0.02</td>\n",
       "      <td>0.040</td>\n",
       "      <td>0.38</td>\n",
       "      <td>0.660</td>\n",
       "      <td>1.0</td>\n",
       "    </tr>\n",
       "    <tr>\n",
       "      <th>2017_sat_ebrw</th>\n",
       "      <td>51.0</td>\n",
       "      <td>569.117647</td>\n",
       "      <td>45.666901</td>\n",
       "      <td>482.00</td>\n",
       "      <td>533.500</td>\n",
       "      <td>559.00</td>\n",
       "      <td>613.000</td>\n",
       "      <td>644.0</td>\n",
       "    </tr>\n",
       "    <tr>\n",
       "      <th>2017_sat_math</th>\n",
       "      <td>51.0</td>\n",
       "      <td>556.882353</td>\n",
       "      <td>47.121395</td>\n",
       "      <td>468.00</td>\n",
       "      <td>523.500</td>\n",
       "      <td>548.00</td>\n",
       "      <td>599.000</td>\n",
       "      <td>651.0</td>\n",
       "    </tr>\n",
       "    <tr>\n",
       "      <th>2017_sat_total</th>\n",
       "      <td>51.0</td>\n",
       "      <td>1126.098039</td>\n",
       "      <td>92.494812</td>\n",
       "      <td>950.00</td>\n",
       "      <td>1055.500</td>\n",
       "      <td>1107.00</td>\n",
       "      <td>1212.000</td>\n",
       "      <td>1295.0</td>\n",
       "    </tr>\n",
       "    <tr>\n",
       "      <th>2017_act_participation</th>\n",
       "      <td>51.0</td>\n",
       "      <td>0.652549</td>\n",
       "      <td>0.321408</td>\n",
       "      <td>0.08</td>\n",
       "      <td>0.310</td>\n",
       "      <td>0.69</td>\n",
       "      <td>1.000</td>\n",
       "      <td>1.0</td>\n",
       "    </tr>\n",
       "    <tr>\n",
       "      <th>2017_act_english</th>\n",
       "      <td>51.0</td>\n",
       "      <td>20.931373</td>\n",
       "      <td>2.353677</td>\n",
       "      <td>16.30</td>\n",
       "      <td>19.000</td>\n",
       "      <td>20.70</td>\n",
       "      <td>23.300</td>\n",
       "      <td>25.5</td>\n",
       "    </tr>\n",
       "    <tr>\n",
       "      <th>2017_act_math</th>\n",
       "      <td>51.0</td>\n",
       "      <td>21.182353</td>\n",
       "      <td>1.981989</td>\n",
       "      <td>18.00</td>\n",
       "      <td>19.400</td>\n",
       "      <td>20.90</td>\n",
       "      <td>23.100</td>\n",
       "      <td>25.3</td>\n",
       "    </tr>\n",
       "    <tr>\n",
       "      <th>2017_act_reading</th>\n",
       "      <td>51.0</td>\n",
       "      <td>22.013725</td>\n",
       "      <td>2.067271</td>\n",
       "      <td>18.10</td>\n",
       "      <td>20.450</td>\n",
       "      <td>21.80</td>\n",
       "      <td>24.150</td>\n",
       "      <td>26.0</td>\n",
       "    </tr>\n",
       "    <tr>\n",
       "      <th>2017_act_science</th>\n",
       "      <td>51.0</td>\n",
       "      <td>21.450980</td>\n",
       "      <td>1.739353</td>\n",
       "      <td>18.20</td>\n",
       "      <td>19.950</td>\n",
       "      <td>21.30</td>\n",
       "      <td>23.200</td>\n",
       "      <td>24.9</td>\n",
       "    </tr>\n",
       "    <tr>\n",
       "      <th>2017_act_composite</th>\n",
       "      <td>51.0</td>\n",
       "      <td>21.519608</td>\n",
       "      <td>2.020695</td>\n",
       "      <td>17.80</td>\n",
       "      <td>19.800</td>\n",
       "      <td>21.40</td>\n",
       "      <td>23.600</td>\n",
       "      <td>25.5</td>\n",
       "    </tr>\n",
       "    <tr>\n",
       "      <th>2018_sat_participation</th>\n",
       "      <td>51.0</td>\n",
       "      <td>0.466275</td>\n",
       "      <td>0.380142</td>\n",
       "      <td>0.02</td>\n",
       "      <td>0.045</td>\n",
       "      <td>0.52</td>\n",
       "      <td>0.795</td>\n",
       "      <td>1.0</td>\n",
       "    </tr>\n",
       "    <tr>\n",
       "      <th>2018_sat_ebrw</th>\n",
       "      <td>51.0</td>\n",
       "      <td>567.294118</td>\n",
       "      <td>45.317676</td>\n",
       "      <td>497.00</td>\n",
       "      <td>535.000</td>\n",
       "      <td>552.00</td>\n",
       "      <td>616.500</td>\n",
       "      <td>643.0</td>\n",
       "    </tr>\n",
       "    <tr>\n",
       "      <th>2018_sat_math</th>\n",
       "      <td>51.0</td>\n",
       "      <td>557.254902</td>\n",
       "      <td>48.887562</td>\n",
       "      <td>480.00</td>\n",
       "      <td>521.500</td>\n",
       "      <td>547.00</td>\n",
       "      <td>600.500</td>\n",
       "      <td>655.0</td>\n",
       "    </tr>\n",
       "    <tr>\n",
       "      <th>2018_sat_total</th>\n",
       "      <td>51.0</td>\n",
       "      <td>1124.666667</td>\n",
       "      <td>93.868561</td>\n",
       "      <td>977.00</td>\n",
       "      <td>1062.500</td>\n",
       "      <td>1099.00</td>\n",
       "      <td>1220.000</td>\n",
       "      <td>1298.0</td>\n",
       "    </tr>\n",
       "    <tr>\n",
       "      <th>2018_act_participation</th>\n",
       "      <td>51.0</td>\n",
       "      <td>0.616471</td>\n",
       "      <td>0.340810</td>\n",
       "      <td>0.07</td>\n",
       "      <td>0.285</td>\n",
       "      <td>0.66</td>\n",
       "      <td>1.000</td>\n",
       "      <td>1.0</td>\n",
       "    </tr>\n",
       "    <tr>\n",
       "      <th>2018_act_composite</th>\n",
       "      <td>51.0</td>\n",
       "      <td>21.498039</td>\n",
       "      <td>2.117686</td>\n",
       "      <td>17.70</td>\n",
       "      <td>19.950</td>\n",
       "      <td>21.30</td>\n",
       "      <td>23.650</td>\n",
       "      <td>25.6</td>\n",
       "    </tr>\n",
       "  </tbody>\n",
       "</table>\n",
       "</div>"
      ],
      "text/plain": [
       "                        count         mean        std     min       25%  \\\n",
       "2017_sat_participation   51.0     0.398039   0.352766    0.02     0.040   \n",
       "2017_sat_ebrw            51.0   569.117647  45.666901  482.00   533.500   \n",
       "2017_sat_math            51.0   556.882353  47.121395  468.00   523.500   \n",
       "2017_sat_total           51.0  1126.098039  92.494812  950.00  1055.500   \n",
       "2017_act_participation   51.0     0.652549   0.321408    0.08     0.310   \n",
       "2017_act_english         51.0    20.931373   2.353677   16.30    19.000   \n",
       "2017_act_math            51.0    21.182353   1.981989   18.00    19.400   \n",
       "2017_act_reading         51.0    22.013725   2.067271   18.10    20.450   \n",
       "2017_act_science         51.0    21.450980   1.739353   18.20    19.950   \n",
       "2017_act_composite       51.0    21.519608   2.020695   17.80    19.800   \n",
       "2018_sat_participation   51.0     0.466275   0.380142    0.02     0.045   \n",
       "2018_sat_ebrw            51.0   567.294118  45.317676  497.00   535.000   \n",
       "2018_sat_math            51.0   557.254902  48.887562  480.00   521.500   \n",
       "2018_sat_total           51.0  1124.666667  93.868561  977.00  1062.500   \n",
       "2018_act_participation   51.0     0.616471   0.340810    0.07     0.285   \n",
       "2018_act_composite       51.0    21.498039   2.117686   17.70    19.950   \n",
       "\n",
       "                            50%       75%     max  \n",
       "2017_sat_participation     0.38     0.660     1.0  \n",
       "2017_sat_ebrw            559.00   613.000   644.0  \n",
       "2017_sat_math            548.00   599.000   651.0  \n",
       "2017_sat_total          1107.00  1212.000  1295.0  \n",
       "2017_act_participation     0.69     1.000     1.0  \n",
       "2017_act_english          20.70    23.300    25.5  \n",
       "2017_act_math             20.90    23.100    25.3  \n",
       "2017_act_reading          21.80    24.150    26.0  \n",
       "2017_act_science          21.30    23.200    24.9  \n",
       "2017_act_composite        21.40    23.600    25.5  \n",
       "2018_sat_participation     0.52     0.795     1.0  \n",
       "2018_sat_ebrw            552.00   616.500   643.0  \n",
       "2018_sat_math            547.00   600.500   655.0  \n",
       "2018_sat_total          1099.00  1220.000  1298.0  \n",
       "2018_act_participation     0.66     1.000     1.0  \n",
       "2018_act_composite        21.30    23.650    25.6  "
      ]
     },
     "execution_count": 5,
     "metadata": {},
     "output_type": "execute_result"
    }
   ],
   "source": [
    "# Tranposing the output of pandas describe method\n",
    "final.describe().T"
   ]
  },
  {
   "cell_type": "markdown",
   "metadata": {},
   "source": [
    "Observations:\n",
    "-  Participation rates for both tests cover a wide range"
   ]
  },
  {
   "cell_type": "code",
   "execution_count": 6,
   "metadata": {},
   "outputs": [
    {
     "data": {
      "image/png": "[encoded data removed]",
      "text/plain": [
       "<Figure size 1080x576 with 4 Axes>"
      ]
     },
     "metadata": {
      "needs_background": "light"
     },
     "output_type": "display_data"
    }
   ],
   "source": [
    "# Looking at the distribtion of participation rates\n",
    "# Reference: code modified from notes from David Yerrington's Class on 3/4 (Intro to Pandas Part 1)\n",
    "fig, ax = plt.subplots(\n",
    "    nrows    = 2,\n",
    "    ncols    = 2,\n",
    "    figsize  = (15, 8)\n",
    ")\n",
    "sns.boxplot(final['2017_act_participation'], ax = ax[0, 0])\n",
    "sns.boxplot(final['2018_act_participation'], ax = ax[0, 1])\n",
    "sns.boxplot(final['2017_sat_participation'], ax = ax[1, 0])\n",
    "sns.boxplot(final['2018_sat_participation'], ax = ax[1, 1]);"
   ]
  },
  {
   "cell_type": "markdown",
   "metadata": {},
   "source": [
    "#### Equation for Standard Deviation\n",
    "\n",
    "$$\\sigma = \\sqrt{\\frac{1}{n}\\sum_{i=1}^n(x_i - \\mu)^2}$$\n"
   ]
  },
  {
   "cell_type": "code",
   "execution_count": 7,
   "metadata": {},
   "outputs": [],
   "source": [
    "# Function to calculate standard deviation based on equation above\n",
    "def std_dev(df, column_name):\n",
    "    total = 0\n",
    "    \n",
    "    # step 1: (current value - mean)**2 (do for all values in column and add together)\n",
    "    for value in df[column_name]:\n",
    "        diff_sq = (value - df[column_name].mean()) ** 2\n",
    "        total += diff_sq\n",
    "        \n",
    "    # step 2: divide by n and then take square root\n",
    "    stdev = ( total / ( df[column_name].count() ) ) ** 0.5\n",
    "    \n",
    "    return stdev"
   ]
  },
  {
   "cell_type": "code",
   "execution_count": 8,
   "metadata": {},
   "outputs": [
    {
     "data": {
      "text/plain": [
       "{'2017_sat_participation': 0.3492907076664507,\n",
       " '2017_sat_ebrw': 45.21697020437866,\n",
       " '2017_sat_math': 46.65713364485503,\n",
       " '2017_sat_total': 91.58351056778743,\n",
       " '2017_act_participation': 0.3182417575123181,\n",
       " '2017_act_english': 2.3304876369363363,\n",
       " '2017_act_math': 1.9624620273436781,\n",
       " '2017_act_reading': 2.0469029314842646,\n",
       " '2017_act_science': 1.7222161451443676,\n",
       " '2017_act_composite': 2.000786081581989,\n",
       " '2018_sat_participation': 0.3763965409204987,\n",
       " '2018_sat_ebrw': 44.87118561762388,\n",
       " '2018_sat_math': 48.40589946919447,\n",
       " '2018_sat_total': 92.94372462792965,\n",
       " '2018_act_participation': 0.33745194881997503,\n",
       " '2018_act_composite': 2.0968220768561987}"
      ]
     },
     "execution_count": 8,
     "metadata": {},
     "output_type": "execute_result"
    }
   ],
   "source": [
    "# Using a dictionary comprehension to apply my standard deviation function to each numeric column in the DataFrame\n",
    "sd = {col_name: std_dev(final, col_name) for col_name in final.columns[1:]}\n",
    "sd"
   ]
  },
  {
   "cell_type": "code",
   "execution_count": 9,
   "metadata": {},
   "outputs": [
    {
     "name": "stdout",
     "output_type": "stream",
     "text": [
      "My Standard Deviation:           0.3182417575123181\n",
      "Numpys Standard Deviation:       0.3182417575123181\n",
      "pd.describe Standard Deviation:  0.32140842015886834\n"
     ]
    }
   ],
   "source": [
    "# Testing function to see if standard deviation mathces for '2017_act_participation'\n",
    "print(\"My Standard Deviation:          \", std_dev(final, '2017_act_participation'))\n",
    "print(\"Numpys Standard Deviation:      \", np.std(final['2017_act_participation']))\n",
    "print(\"pd.describe Standard Deviation: \", final['2017_act_participation'].describe().T['std'])"
   ]
  },
  {
   "cell_type": "markdown",
   "metadata": {},
   "source": [
    "Observation: Manual and Numpy's standard deviation method are returning the same number - but slightly different than pandas describe"
   ]
  },
  {
   "cell_type": "markdown",
   "metadata": {},
   "source": [
    "## Investigate Trends in the Data"
   ]
  },
  {
   "cell_type": "markdown",
   "metadata": {},
   "source": [
    "#### Find Highest/Lowest Participation Rates - SAT"
   ]
  },
  {
   "cell_type": "code",
   "execution_count": 10,
   "metadata": {},
   "outputs": [
    {
     "name": "stdout",
     "output_type": "stream",
     "text": [
      "           state  2017_sat_participation\n",
      "34  North Dakota                    0.02\n",
      "24   Mississippi                    0.02\n",
      "15          Iowa                    0.02\n",
      "25      Missouri                    0.03\n",
      "44          Utah                    0.03\n",
      "                   state  2017_sat_participation\n",
      "29         New Hampshire                    0.96\n",
      "22              Michigan                    1.00\n",
      "8   District of Columbia                    1.00\n",
      "7               Delaware                    1.00\n",
      "6            Connecticut                    1.00\n"
     ]
    }
   ],
   "source": [
    "# 2017 SAT Participation\n",
    "sat_part_2017 = final.copy()[['state', '2017_sat_participation']]\n",
    "# Lowest\n",
    "print(sat_part_2017.sort_values(by='2017_sat_participation').head())\n",
    "# Highest\n",
    "print(sat_part_2017.sort_values(by='2017_sat_participation').tail())"
   ]
  },
  {
   "cell_type": "markdown",
   "metadata": {},
   "source": [
    "*  2017 SAT Lowest Participation: North Dakota, Mississippi, Iowa (2%)\n",
    "    - States with relatively smaller populations\n",
    "*  2017 SAT Highest Particpation: Michigan, DC, Delaware, Connecticut (100%)\n",
    "    - Why is there 100% participation?"
   ]
  },
  {
   "cell_type": "code",
   "execution_count": 11,
   "metadata": {},
   "outputs": [
    {
     "name": "stdout",
     "output_type": "stream",
     "text": [
      "           state  2018_sat_participation\n",
      "34  North Dakota                    0.02\n",
      "50       Wyoming                    0.03\n",
      "41  South Dakota                    0.03\n",
      "27      Nebraska                    0.03\n",
      "49     Wisconsin                    0.03\n",
      "          state  2018_sat_participation\n",
      "13     Illinois                    0.99\n",
      "5      Colorado                    1.00\n",
      "6   Connecticut                    1.00\n",
      "7      Delaware                    1.00\n",
      "22     Michigan                    1.00\n",
      "12        Idaho                    1.00\n"
     ]
    }
   ],
   "source": [
    "# 2018 SAT Participation\n",
    "sat_part_2018 = final.copy()[['state', '2018_sat_participation']]\n",
    "# Lowest\n",
    "print(sat_part_2018.sort_values(by='2018_sat_participation').head()) \n",
    "# Highest\n",
    "print(sat_part_2018.sort_values(by='2018_sat_participation').tail(6)) "
   ]
  },
  {
   "cell_type": "markdown",
   "metadata": {},
   "source": [
    "*  2018 SAT Lowest Participation: North Dakota (2%\n",
    "    - Mississippi and Iowa are no longer in the bottom 5 in terms of SAT participation\n",
    "*  2018 SAT Highest Particpation: Idaho, Michigan, Delaware, Connecticut, Colorado(100%)\n",
    "    - DC fell out of the highest participation top states\n",
    "    - Idaho, Colorado and Illinois are new to the top 5"
   ]
  },
  {
   "cell_type": "markdown",
   "metadata": {},
   "source": [
    "#### Find Highest/Lowest Participation Rates - ACT"
   ]
  },
  {
   "cell_type": "code",
   "execution_count": 12,
   "metadata": {},
   "outputs": [
    {
     "name": "stdout",
     "output_type": "stream",
     "text": [
      "            state  2017_act_participation\n",
      "19          Maine                    0.08\n",
      "29  New Hampshire                    0.18\n",
      "7        Delaware                    0.18\n",
      "39   Rhode Island                    0.21\n",
      "38   Pennsylvania                    0.23\n",
      "             state  2017_act_participation\n",
      "34    North Dakota                    0.98\n",
      "40  South Carolina                    1.00\n",
      "44            Utah                    1.00\n",
      "42       Tennessee                    1.00\n",
      "0          Alabama                    1.00\n",
      "25        Missouri                    1.00\n",
      "33  North Carolina                    1.00\n",
      "28          Nevada                    1.00\n",
      "26         Montana                    1.00\n",
      "49       Wisconsin                    1.00\n",
      "24     Mississippi                    1.00\n",
      "23       Minnesota                    1.00\n",
      "18       Louisiana                    1.00\n",
      "17        Kentucky                    1.00\n",
      "5         Colorado                    1.00\n",
      "3         Arkansas                    1.00\n",
      "36        Oklahoma                    1.00\n",
      "50         Wyoming                    1.00\n"
     ]
    }
   ],
   "source": [
    "# 2017 ACT Participation\n",
    "act_part_2017 = final.copy()[['state', '2017_act_participation']]\n",
    "# Lowest\n",
    "print(act_part_2017.sort_values(by='2017_act_participation').head())\n",
    "# Highest\n",
    "print(act_part_2017.sort_values(by='2017_act_participation').tail(18))"
   ]
  },
  {
   "cell_type": "markdown",
   "metadata": {},
   "source": [
    "*  2017 ACT Lowest Participation: Maine (8%), Delaware (18%), New Hampshire (18%)\n",
    "    - Delaware was on the highest for SAT and lowest for ACT\n",
    "*  2017 ACT Highest Particpation: 17 States with 100% - Wyoming, Oklahoma, Arkansas, Colorado, Kentucky, Lousiana, Minnesota, Mississippi, Wisconsin, Montana, Nevada, North Carolina, Missouri, Alabama, Tennessee, Utah, South Carolina\n",
    "    - Many more states with 100% participation than SAT\n",
    "    - Most of these states are in the middle of the USA"
   ]
  },
  {
   "cell_type": "code",
   "execution_count": 13,
   "metadata": {},
   "outputs": [
    {
     "name": "stdout",
     "output_type": "stream",
     "text": [
      "            state  2018_act_participation\n",
      "19          Maine                    0.07\n",
      "39   Rhode Island                    0.15\n",
      "29  New Hampshire                    0.16\n",
      "7        Delaware                    0.17\n",
      "38   Pennsylvania                    0.20\n",
      "             state  2018_act_participation\n",
      "23       Minnesota                    0.99\n",
      "44            Utah                    1.00\n",
      "42       Tennessee                    1.00\n",
      "40  South Carolina                    1.00\n",
      "0          Alabama                    1.00\n",
      "25        Missouri                    1.00\n",
      "35            Ohio                    1.00\n",
      "33  North Carolina                    1.00\n",
      "28          Nevada                    1.00\n",
      "27        Nebraska                    1.00\n",
      "26         Montana                    1.00\n",
      "49       Wisconsin                    1.00\n",
      "24     Mississippi                    1.00\n",
      "18       Louisiana                    1.00\n",
      "17        Kentucky                    1.00\n",
      "3         Arkansas                    1.00\n",
      "36        Oklahoma                    1.00\n",
      "50         Wyoming                    1.00\n"
     ]
    }
   ],
   "source": [
    "# 2018 ACT Participation\n",
    "act_part_2018 = final.copy()[['state', '2018_act_participation']]\n",
    "# Lowest\n",
    "print(act_part_2018.sort_values(by='2018_act_participation').head())\n",
    "# Highest\n",
    "print(act_part_2018.sort_values(by='2018_act_participation').tail(18))"
   ]
  },
  {
   "cell_type": "markdown",
   "metadata": {},
   "source": [
    "*  2018 ACT Lowest Participation: Maine (7%), Rhode Island (15%), New Hampshire (16%), Delaware (17%)\n",
    "    - States remain pretty consistent in this category\n",
    "*  2018 ACT Highest Particpation: 17 States with 100% - Wyoming, Oklahoma, Arkansas, Kentucky, Lousiana, Mississippi, Wisconsin, Montana, Nebraska, Nevada, North Carolina, Missouri, Alabama, South Carolina, Tennessee, Utah\n",
    "    - States remain pretty consistent in this category as well, other than the loss of Colorado"
   ]
  },
  {
   "cell_type": "markdown",
   "metadata": {},
   "source": [
    "#### Find Highest/Lowest Scores - SAT"
   ]
  },
  {
   "cell_type": "code",
   "execution_count": 14,
   "metadata": {},
   "outputs": [
    {
     "name": "stdout",
     "output_type": "stream",
     "text": [
      "                   state  2017_sat_total\n",
      "8   District of Columbia             950\n",
      "7               Delaware             996\n",
      "12                 Idaho            1005\n",
      "22              Michigan            1005\n",
      "19                 Maine            1012\n",
      "        state  2017_sat_total\n",
      "16     Kansas            1260\n",
      "25   Missouri            1271\n",
      "15       Iowa            1275\n",
      "49  Wisconsin            1291\n",
      "23  Minnesota            1295\n"
     ]
    }
   ],
   "source": [
    "# 2017 SAT Scores\n",
    "sat_total_2017 = final.copy()[['state', '2017_sat_total']]\n",
    "# Lowest 5\n",
    "print(sat_total_2017.sort_values(by='2017_sat_total').head())\n",
    "# Highest 5=\n",
    "print(sat_total_2017.sort_values(by='2017_sat_total').tail()) "
   ]
  },
  {
   "cell_type": "markdown",
   "metadata": {},
   "source": [
    "*  2017 SAT Lowest Total: DC, Delaware, Idaho, Michigan, Maine\n",
    "    - States with high participation are falling into the lowest score category\n",
    "*  2017 SAT Highest Total: Minnesota, Wisconsin, Iowa, Missouri, Kansas\n",
    "    - States with low participationa are falling into the highest score category"
   ]
  },
  {
   "cell_type": "code",
   "execution_count": 15,
   "metadata": {},
   "outputs": [
    {
     "name": "stdout",
     "output_type": "stream",
     "text": [
      "                   state  2018_sat_total\n",
      "8   District of Columbia             977\n",
      "7               Delaware             998\n",
      "48         West Virginia             999\n",
      "12                 Idaho            1001\n",
      "22              Michigan            1011\n",
      "           state  2018_sat_total\n",
      "16        Kansas            1265\n",
      "15          Iowa            1265\n",
      "34  North Dakota            1283\n",
      "49     Wisconsin            1294\n",
      "23     Minnesota            1298\n"
     ]
    }
   ],
   "source": [
    "# 2018 SAT Scores\n",
    "sat_total_2018 = final.copy()[['state', '2018_sat_total']]\n",
    "# Lowest 5\n",
    "print(sat_total_2018.sort_values(by='2018_sat_total').head())\n",
    "# Highest 5\n",
    "print(sat_total_2018.sort_values(by='2018_sat_total').tail()) "
   ]
  },
  {
   "cell_type": "markdown",
   "metadata": {},
   "source": [
    "*  2018 SAT Lowest Total: DC, Delaware, West Virginia, Idaho, Michigan\n",
    "    - States with high participation are falling into the lowest score category (similar to 2017)\n",
    "    - West Virginia's scores have dropped\n",
    "*  2018 SAT Highest Total: Minnesota, Wisconsin, North Dakora,Iowa, Kansas\n",
    "    - States with low participationa are falling into the highest score category (similar to 2017)"
   ]
  },
  {
   "cell_type": "markdown",
   "metadata": {},
   "source": [
    "#### Find Highest/Lowest Scores - ACT"
   ]
  },
  {
   "cell_type": "code",
   "execution_count": 16,
   "metadata": {},
   "outputs": [
    {
     "name": "stdout",
     "output_type": "stream",
     "text": [
      "             state  2017_act_composite\n",
      "28          Nevada                17.8\n",
      "24     Mississippi                18.6\n",
      "40  South Carolina                18.7\n",
      "11          Hawaii                19.0\n",
      "33  North Carolina                19.1\n",
      "                   state  2017_act_composite\n",
      "8   District of Columbia                24.2\n",
      "19                 Maine                24.3\n",
      "6            Connecticut                25.2\n",
      "21         Massachusetts                25.4\n",
      "29         New Hampshire                25.5\n"
     ]
    }
   ],
   "source": [
    "# 2017 ACT Scores\n",
    "act_total_2017 = final.copy()[['state', '2017_act_composite']]\n",
    "# Lowest 5\n",
    "print(act_total_2017.sort_values(by='2017_act_composite').head())\n",
    "# Highest 5\n",
    "print(act_total_2017.sort_values(by='2017_act_composite').tail()) "
   ]
  },
  {
   "cell_type": "markdown",
   "metadata": {},
   "source": [
    "*  2017 ACT Lowest Total: Nevada, Mississippi, South Carolina, Hawaii, North Carolina\n",
    "    - States with high participation are falling into the lowest score category (similar to SAT)\n",
    "*  2017 ACT Highest Total: New Hampshire, Massachusetts, Connecticut, Maine, New York\n",
    "    - States with low participationa are falling into the highest score category (similar to SAT)"
   ]
  },
  {
   "cell_type": "code",
   "execution_count": 17,
   "metadata": {},
   "outputs": [
    {
     "name": "stdout",
     "output_type": "stream",
     "text": [
      "             state  2018_act_composite\n",
      "28          Nevada                17.7\n",
      "40  South Carolina                18.3\n",
      "24     Mississippi                18.6\n",
      "11          Hawaii                18.9\n",
      "0          Alabama                19.1\n",
      "            state  2018_act_composite\n",
      "22       Michigan                24.4\n",
      "32       New York                24.5\n",
      "29  New Hampshire                25.1\n",
      "21  Massachusetts                25.5\n",
      "6     Connecticut                25.6\n"
     ]
    }
   ],
   "source": [
    "# 2018 ACT Scores\n",
    "act_total_2018 = final.copy()[['state', '2018_act_composite']]\n",
    "# Lowest 5\n",
    "print(act_total_2018.sort_values(by='2018_act_composite').head())\n",
    "# Highest 5\n",
    "print(act_total_2018.sort_values(by='2018_act_composite').tail()) "
   ]
  },
  {
   "cell_type": "markdown",
   "metadata": {},
   "source": [
    "*  2018 ACT Lowest Total: Nevada, South Carolina, Mississippi, Hawaii, Alabama\n",
    "    - States with high participation are falling into the lowest score category (similar to ACT 2017)\n",
    "*  2018 ACT Highest Total: Connecticut, Massachusetts, New Hampshire, New York, Michigan\n",
    "    - States with low participationa are falling into the highest score category (similar to ACT 2017)"
   ]
  },
  {
   "cell_type": "code",
   "execution_count": 18,
   "metadata": {},
   "outputs": [
    {
     "data": {
      "text/html": [
       "<div>\n",
       "<style scoped>\n",
       "    .dataframe tbody tr th:only-of-type {\n",
       "        vertical-align: middle;\n",
       "    }\n",
       "\n",
       "    .dataframe tbody tr th {\n",
       "        vertical-align: top;\n",
       "    }\n",
       "\n",
       "    .dataframe thead th {\n",
       "        text-align: right;\n",
       "    }\n",
       "</style>\n",
       "<table border=\"1\" class=\"dataframe\">\n",
       "  <thead>\n",
       "    <tr style=\"text-align: right;\">\n",
       "      <th></th>\n",
       "      <th>state</th>\n",
       "      <th>2017_act_participation</th>\n",
       "      <th>2018_act_participation</th>\n",
       "      <th>act_participation_yoy</th>\n",
       "      <th>2017_sat_participation</th>\n",
       "      <th>2018_sat_participation</th>\n",
       "      <th>sat_participation_yoy</th>\n",
       "    </tr>\n",
       "  </thead>\n",
       "  <tbody>\n",
       "    <tr>\n",
       "      <th>0</th>\n",
       "      <td>Alabama</td>\n",
       "      <td>1.00</td>\n",
       "      <td>1.00</td>\n",
       "      <td>0.000000</td>\n",
       "      <td>0.05</td>\n",
       "      <td>0.06</td>\n",
       "      <td>0.200000</td>\n",
       "    </tr>\n",
       "    <tr>\n",
       "      <th>3</th>\n",
       "      <td>Arkansas</td>\n",
       "      <td>1.00</td>\n",
       "      <td>1.00</td>\n",
       "      <td>0.000000</td>\n",
       "      <td>0.03</td>\n",
       "      <td>0.05</td>\n",
       "      <td>0.666667</td>\n",
       "    </tr>\n",
       "    <tr>\n",
       "      <th>5</th>\n",
       "      <td>Colorado</td>\n",
       "      <td>1.00</td>\n",
       "      <td>0.30</td>\n",
       "      <td>-0.700000</td>\n",
       "      <td>0.11</td>\n",
       "      <td>1.00</td>\n",
       "      <td>8.090909</td>\n",
       "    </tr>\n",
       "    <tr>\n",
       "      <th>6</th>\n",
       "      <td>Connecticut</td>\n",
       "      <td>0.31</td>\n",
       "      <td>0.26</td>\n",
       "      <td>-0.161290</td>\n",
       "      <td>1.00</td>\n",
       "      <td>1.00</td>\n",
       "      <td>0.000000</td>\n",
       "    </tr>\n",
       "    <tr>\n",
       "      <th>7</th>\n",
       "      <td>Delaware</td>\n",
       "      <td>0.18</td>\n",
       "      <td>0.17</td>\n",
       "      <td>-0.055556</td>\n",
       "      <td>1.00</td>\n",
       "      <td>1.00</td>\n",
       "      <td>0.000000</td>\n",
       "    </tr>\n",
       "    <tr>\n",
       "      <th>8</th>\n",
       "      <td>District of Columbia</td>\n",
       "      <td>0.32</td>\n",
       "      <td>0.32</td>\n",
       "      <td>0.000000</td>\n",
       "      <td>1.00</td>\n",
       "      <td>0.92</td>\n",
       "      <td>-0.080000</td>\n",
       "    </tr>\n",
       "    <tr>\n",
       "      <th>12</th>\n",
       "      <td>Idaho</td>\n",
       "      <td>0.38</td>\n",
       "      <td>0.36</td>\n",
       "      <td>-0.052632</td>\n",
       "      <td>0.93</td>\n",
       "      <td>1.00</td>\n",
       "      <td>0.075269</td>\n",
       "    </tr>\n",
       "    <tr>\n",
       "      <th>17</th>\n",
       "      <td>Kentucky</td>\n",
       "      <td>1.00</td>\n",
       "      <td>1.00</td>\n",
       "      <td>0.000000</td>\n",
       "      <td>0.04</td>\n",
       "      <td>0.04</td>\n",
       "      <td>0.000000</td>\n",
       "    </tr>\n",
       "    <tr>\n",
       "      <th>18</th>\n",
       "      <td>Louisiana</td>\n",
       "      <td>1.00</td>\n",
       "      <td>1.00</td>\n",
       "      <td>0.000000</td>\n",
       "      <td>0.04</td>\n",
       "      <td>0.04</td>\n",
       "      <td>0.000000</td>\n",
       "    </tr>\n",
       "    <tr>\n",
       "      <th>22</th>\n",
       "      <td>Michigan</td>\n",
       "      <td>0.29</td>\n",
       "      <td>0.22</td>\n",
       "      <td>-0.241379</td>\n",
       "      <td>1.00</td>\n",
       "      <td>1.00</td>\n",
       "      <td>0.000000</td>\n",
       "    </tr>\n",
       "    <tr>\n",
       "      <th>23</th>\n",
       "      <td>Minnesota</td>\n",
       "      <td>1.00</td>\n",
       "      <td>0.99</td>\n",
       "      <td>-0.010000</td>\n",
       "      <td>0.03</td>\n",
       "      <td>0.04</td>\n",
       "      <td>0.333333</td>\n",
       "    </tr>\n",
       "    <tr>\n",
       "      <th>24</th>\n",
       "      <td>Mississippi</td>\n",
       "      <td>1.00</td>\n",
       "      <td>1.00</td>\n",
       "      <td>0.000000</td>\n",
       "      <td>0.02</td>\n",
       "      <td>0.03</td>\n",
       "      <td>0.500000</td>\n",
       "    </tr>\n",
       "    <tr>\n",
       "      <th>25</th>\n",
       "      <td>Missouri</td>\n",
       "      <td>1.00</td>\n",
       "      <td>1.00</td>\n",
       "      <td>0.000000</td>\n",
       "      <td>0.03</td>\n",
       "      <td>0.04</td>\n",
       "      <td>0.333333</td>\n",
       "    </tr>\n",
       "    <tr>\n",
       "      <th>26</th>\n",
       "      <td>Montana</td>\n",
       "      <td>1.00</td>\n",
       "      <td>1.00</td>\n",
       "      <td>0.000000</td>\n",
       "      <td>0.10</td>\n",
       "      <td>0.10</td>\n",
       "      <td>0.000000</td>\n",
       "    </tr>\n",
       "    <tr>\n",
       "      <th>27</th>\n",
       "      <td>Nebraska</td>\n",
       "      <td>0.84</td>\n",
       "      <td>1.00</td>\n",
       "      <td>0.190476</td>\n",
       "      <td>0.03</td>\n",
       "      <td>0.03</td>\n",
       "      <td>0.000000</td>\n",
       "    </tr>\n",
       "    <tr>\n",
       "      <th>28</th>\n",
       "      <td>Nevada</td>\n",
       "      <td>1.00</td>\n",
       "      <td>1.00</td>\n",
       "      <td>0.000000</td>\n",
       "      <td>0.26</td>\n",
       "      <td>0.23</td>\n",
       "      <td>-0.115385</td>\n",
       "    </tr>\n",
       "    <tr>\n",
       "      <th>33</th>\n",
       "      <td>North Carolina</td>\n",
       "      <td>1.00</td>\n",
       "      <td>1.00</td>\n",
       "      <td>0.000000</td>\n",
       "      <td>0.49</td>\n",
       "      <td>0.52</td>\n",
       "      <td>0.061224</td>\n",
       "    </tr>\n",
       "    <tr>\n",
       "      <th>35</th>\n",
       "      <td>Ohio</td>\n",
       "      <td>0.75</td>\n",
       "      <td>1.00</td>\n",
       "      <td>0.333333</td>\n",
       "      <td>0.12</td>\n",
       "      <td>0.18</td>\n",
       "      <td>0.500000</td>\n",
       "    </tr>\n",
       "    <tr>\n",
       "      <th>36</th>\n",
       "      <td>Oklahoma</td>\n",
       "      <td>1.00</td>\n",
       "      <td>1.00</td>\n",
       "      <td>0.000000</td>\n",
       "      <td>0.07</td>\n",
       "      <td>0.08</td>\n",
       "      <td>0.142857</td>\n",
       "    </tr>\n",
       "    <tr>\n",
       "      <th>40</th>\n",
       "      <td>South Carolina</td>\n",
       "      <td>1.00</td>\n",
       "      <td>1.00</td>\n",
       "      <td>0.000000</td>\n",
       "      <td>0.50</td>\n",
       "      <td>0.55</td>\n",
       "      <td>0.100000</td>\n",
       "    </tr>\n",
       "    <tr>\n",
       "      <th>42</th>\n",
       "      <td>Tennessee</td>\n",
       "      <td>1.00</td>\n",
       "      <td>1.00</td>\n",
       "      <td>0.000000</td>\n",
       "      <td>0.05</td>\n",
       "      <td>0.06</td>\n",
       "      <td>0.200000</td>\n",
       "    </tr>\n",
       "    <tr>\n",
       "      <th>44</th>\n",
       "      <td>Utah</td>\n",
       "      <td>1.00</td>\n",
       "      <td>1.00</td>\n",
       "      <td>0.000000</td>\n",
       "      <td>0.03</td>\n",
       "      <td>0.04</td>\n",
       "      <td>0.333333</td>\n",
       "    </tr>\n",
       "    <tr>\n",
       "      <th>49</th>\n",
       "      <td>Wisconsin</td>\n",
       "      <td>1.00</td>\n",
       "      <td>1.00</td>\n",
       "      <td>0.000000</td>\n",
       "      <td>0.03</td>\n",
       "      <td>0.03</td>\n",
       "      <td>0.000000</td>\n",
       "    </tr>\n",
       "    <tr>\n",
       "      <th>50</th>\n",
       "      <td>Wyoming</td>\n",
       "      <td>1.00</td>\n",
       "      <td>1.00</td>\n",
       "      <td>0.000000</td>\n",
       "      <td>0.03</td>\n",
       "      <td>0.03</td>\n",
       "      <td>0.000000</td>\n",
       "    </tr>\n",
       "  </tbody>\n",
       "</table>\n",
       "</div>"
      ],
      "text/plain": [
       "                   state  2017_act_participation  2018_act_participation  \\\n",
       "0                Alabama                    1.00                    1.00   \n",
       "3               Arkansas                    1.00                    1.00   \n",
       "5               Colorado                    1.00                    0.30   \n",
       "6            Connecticut                    0.31                    0.26   \n",
       "7               Delaware                    0.18                    0.17   \n",
       "8   District of Columbia                    0.32                    0.32   \n",
       "12                 Idaho                    0.38                    0.36   \n",
       "17              Kentucky                    1.00                    1.00   \n",
       "18             Louisiana                    1.00                    1.00   \n",
       "22              Michigan                    0.29                    0.22   \n",
       "23             Minnesota                    1.00                    0.99   \n",
       "24           Mississippi                    1.00                    1.00   \n",
       "25              Missouri                    1.00                    1.00   \n",
       "26               Montana                    1.00                    1.00   \n",
       "27              Nebraska                    0.84                    1.00   \n",
       "28                Nevada                    1.00                    1.00   \n",
       "33        North Carolina                    1.00                    1.00   \n",
       "35                  Ohio                    0.75                    1.00   \n",
       "36              Oklahoma                    1.00                    1.00   \n",
       "40        South Carolina                    1.00                    1.00   \n",
       "42             Tennessee                    1.00                    1.00   \n",
       "44                  Utah                    1.00                    1.00   \n",
       "49             Wisconsin                    1.00                    1.00   \n",
       "50               Wyoming                    1.00                    1.00   \n",
       "\n",
       "    act_participation_yoy  2017_sat_participation  2018_sat_participation  \\\n",
       "0                0.000000                    0.05                    0.06   \n",
       "3                0.000000                    0.03                    0.05   \n",
       "5               -0.700000                    0.11                    1.00   \n",
       "6               -0.161290                    1.00                    1.00   \n",
       "7               -0.055556                    1.00                    1.00   \n",
       "8                0.000000                    1.00                    0.92   \n",
       "12              -0.052632                    0.93                    1.00   \n",
       "17               0.000000                    0.04                    0.04   \n",
       "18               0.000000                    0.04                    0.04   \n",
       "22              -0.241379                    1.00                    1.00   \n",
       "23              -0.010000                    0.03                    0.04   \n",
       "24               0.000000                    0.02                    0.03   \n",
       "25               0.000000                    0.03                    0.04   \n",
       "26               0.000000                    0.10                    0.10   \n",
       "27               0.190476                    0.03                    0.03   \n",
       "28               0.000000                    0.26                    0.23   \n",
       "33               0.000000                    0.49                    0.52   \n",
       "35               0.333333                    0.12                    0.18   \n",
       "36               0.000000                    0.07                    0.08   \n",
       "40               0.000000                    0.50                    0.55   \n",
       "42               0.000000                    0.05                    0.06   \n",
       "44               0.000000                    0.03                    0.04   \n",
       "49               0.000000                    0.03                    0.03   \n",
       "50               0.000000                    0.03                    0.03   \n",
       "\n",
       "    sat_participation_yoy  \n",
       "0                0.200000  \n",
       "3                0.666667  \n",
       "5                8.090909  \n",
       "6                0.000000  \n",
       "7                0.000000  \n",
       "8               -0.080000  \n",
       "12               0.075269  \n",
       "17               0.000000  \n",
       "18               0.000000  \n",
       "22               0.000000  \n",
       "23               0.333333  \n",
       "24               0.500000  \n",
       "25               0.333333  \n",
       "26               0.000000  \n",
       "27               0.000000  \n",
       "28              -0.115385  \n",
       "33               0.061224  \n",
       "35               0.500000  \n",
       "36               0.142857  \n",
       "40               0.100000  \n",
       "42               0.200000  \n",
       "44               0.333333  \n",
       "49               0.000000  \n",
       "50               0.000000  "
      ]
     },
     "execution_count": 18,
     "metadata": {},
     "output_type": "execute_result"
    }
   ],
   "source": [
    "# Do any states with 100% participation on a given test have a rate change year-to-year?\n",
    "\n",
    "# Creating a copy of final data frame that only looks at state and participation rates (2017 & 2018)\n",
    "participation = final.copy()[['state', '2017_act_participation', '2018_act_participation', \n",
    "                         '2017_sat_participation', '2018_sat_participation']]\n",
    "\n",
    "# Add new columns to this new data frame to look at participation yoy\n",
    "# Reference: minor adjustments from code found at https://pandas.pydata.org/pandas-docs/version/0.23/generated/pandas.DataFrame.assign.html\n",
    "act_participation_yoy = [(y - x) / x for x, y in zip(participation['2017_act_participation'], \n",
    "                                                     participation['2018_act_participation'])]\n",
    "sat_participation_yoy = [(y - x) / x for x, y in zip(participation['2017_sat_participation'], \n",
    "                                                     participation['2018_sat_participation'])]\n",
    "participation = participation.assign(act_participation_yoy = act_participation_yoy, \n",
    "                                     sat_participation_yoy = sat_participation_yoy)\n",
    "\n",
    "# Look at only states where participation was 100% for either 2017 or 2018 for either test\n",
    "mask = (participation['2017_act_participation'] == 1.00) | (participation['2018_act_participation'] == 1.00) | (participation['2017_sat_participation'] == 1.00) | (participation['2018_sat_participation'] == 1.00) \n",
    "\n",
    "# Apply mask and re-order columns\n",
    "part_100 = participation[mask]\n",
    "part_100 = part_100[['state', '2017_act_participation', '2018_act_participation', 'act_participation_yoy',\n",
    "                    '2017_sat_participation', '2018_sat_participation', 'sat_participation_yoy']]\n",
    "# Print DataFrame\n",
    "part_100"
   ]
  },
  {
   "cell_type": "markdown",
   "metadata": {},
   "source": [
    "Observations:\n",
    "\n",
    "ACT\n",
    "- Colorado: 2017 Part = 1.00, 2018 Part = 0.30 (70% decrease)\n",
    "- Minnesota: 2017 Part = 1.00, 2018 Part = 0.99 (1% decrease)\n",
    "- Nebraska: 2017 Part = 0.84, 2018 Part = 1.00 (19% increase)\n",
    "- Ohio: 2017 Part = 0.75, 2018 Part = 1.00 (33% increase)\n",
    "- Consistently 100% Participation States: Alabama, Arkansas, Kentucky, Lousiana, Mississippi, Missouri, Montana, Nevada, North Carolina, Oklahoma, South Carolina, Tennessee, Utah, Wisconsin, Wyoming\n",
    "\n",
    "SAT\n",
    "- Colorado: 2017 Part = 0.11, 2018 Part = 1.00 (809% increase)\n",
    "- Idaho: 2017 Part = 0.93, 2018 Part = 1.00 (7.5% increase)\n",
    "- District of Columbia: 2017 Part = 1.00, 2018 Part = 0.92 (8% decrease)\n",
    "- Consistently 100% Participation States: Connecticut, Delaware, Michigan\n",
    "\n",
    "Questions:\n",
    "- Is there a requiremnt to take the test in the states where participation is 100% (many consistently 100% states)\n",
    "- Colorado: why did the ACT decrease by 70% and SAT increase by 809% from 2017 to 2018\n",
    "- Ohio: was there a new requiremnt that required the ACT in 2018?\n",
    "- Idaho: was there a new requiremnt that required the SAT in 2018?"
   ]
  },
  {
   "cell_type": "code",
   "execution_count": 19,
   "metadata": {},
   "outputs": [
    {
     "data": {
      "text/html": [
       "<div>\n",
       "<style scoped>\n",
       "    .dataframe tbody tr th:only-of-type {\n",
       "        vertical-align: middle;\n",
       "    }\n",
       "\n",
       "    .dataframe tbody tr th {\n",
       "        vertical-align: top;\n",
       "    }\n",
       "\n",
       "    .dataframe thead th {\n",
       "        text-align: right;\n",
       "    }\n",
       "</style>\n",
       "<table border=\"1\" class=\"dataframe\">\n",
       "  <thead>\n",
       "    <tr style=\"text-align: right;\">\n",
       "      <th></th>\n",
       "      <th>state</th>\n",
       "      <th>2017_act_participation</th>\n",
       "      <th>2018_act_participation</th>\n",
       "      <th>act_participation_yoy</th>\n",
       "      <th>2017_sat_participation</th>\n",
       "      <th>2018_sat_participation</th>\n",
       "      <th>sat_participation_yoy</th>\n",
       "    </tr>\n",
       "  </thead>\n",
       "  <tbody>\n",
       "    <tr>\n",
       "      <th>3</th>\n",
       "      <td>Arkansas</td>\n",
       "      <td>1.00</td>\n",
       "      <td>1.00</td>\n",
       "      <td>0.000000</td>\n",
       "      <td>0.03</td>\n",
       "      <td>0.05</td>\n",
       "      <td>0.666667</td>\n",
       "    </tr>\n",
       "    <tr>\n",
       "      <th>5</th>\n",
       "      <td>Colorado</td>\n",
       "      <td>1.00</td>\n",
       "      <td>0.30</td>\n",
       "      <td>-0.700000</td>\n",
       "      <td>0.11</td>\n",
       "      <td>1.00</td>\n",
       "      <td>8.090909</td>\n",
       "    </tr>\n",
       "    <tr>\n",
       "      <th>13</th>\n",
       "      <td>Illinois</td>\n",
       "      <td>0.93</td>\n",
       "      <td>0.43</td>\n",
       "      <td>-0.537634</td>\n",
       "      <td>0.09</td>\n",
       "      <td>0.99</td>\n",
       "      <td>10.000000</td>\n",
       "    </tr>\n",
       "    <tr>\n",
       "      <th>48</th>\n",
       "      <td>West Virginia</td>\n",
       "      <td>0.69</td>\n",
       "      <td>0.65</td>\n",
       "      <td>-0.057971</td>\n",
       "      <td>0.14</td>\n",
       "      <td>0.28</td>\n",
       "      <td>1.000000</td>\n",
       "    </tr>\n",
       "  </tbody>\n",
       "</table>\n",
       "</div>"
      ],
      "text/plain": [
       "            state  2017_act_participation  2018_act_participation  \\\n",
       "3        Arkansas                    1.00                    1.00   \n",
       "5        Colorado                    1.00                    0.30   \n",
       "13       Illinois                    0.93                    0.43   \n",
       "48  West Virginia                    0.69                    0.65   \n",
       "\n",
       "    act_participation_yoy  2017_sat_participation  2018_sat_participation  \\\n",
       "3                0.000000                    0.03                    0.05   \n",
       "5               -0.700000                    0.11                    1.00   \n",
       "13              -0.537634                    0.09                    0.99   \n",
       "48              -0.057971                    0.14                    0.28   \n",
       "\n",
       "    sat_participation_yoy  \n",
       "3                0.666667  \n",
       "5                8.090909  \n",
       "13              10.000000  \n",
       "48               1.000000  "
      ]
     },
     "execution_count": 19,
     "metadata": {},
     "output_type": "execute_result"
    }
   ],
   "source": [
    "# Look at other states with participation rate changes\n",
    "# Look at states with participation changes greater than 50% (increase or decrease)\n",
    "mask = (abs(participation['sat_participation_yoy']) > 0.5) | (abs(participation['act_participation_yoy']) > 0.5)\n",
    "\n",
    "# Apply mask and re-order columns\n",
    "part_50 = participation[mask]\n",
    "part_50 = part_50[['state', '2017_act_participation', '2018_act_participation', 'act_participation_yoy',\n",
    "                    '2017_sat_participation', '2018_sat_participation', 'sat_participation_yoy']]\n",
    "\n",
    "# Print DataFrame\n",
    "part_50"
   ]
  },
  {
   "cell_type": "markdown",
   "metadata": {},
   "source": [
    "Observations\n",
    "*  Colorado and Illinois both experienced a hugh increase in SAT participation and a huge decrease in ACT participation\n",
    "*  West Virigina experienced a 100% increase in SAT participation (Why??)\n",
    "*  Arkansas, although small, experienced a 67% increase in participation (only from 3% to 5%)"
   ]
  },
  {
   "cell_type": "code",
   "execution_count": 20,
   "metadata": {},
   "outputs": [],
   "source": [
    "# States that show > 50% participation on both tests either year\n",
    "\n",
    "# Creating a copy of final data frame that only looks at state and participation rates for SAT (2017 & 2018)\n",
    "part__both_50 = final.copy()[['state', '2017_act_participation', '2018_act_participation', \n",
    "                         '2017_sat_participation', '2018_sat_participation']]\n",
    "\n",
    "#Look at only states where participation was 50% or greater for either test in both 2017 and 2018\n",
    "mask_2017 = (part__both_50 ['2017_act_participation'] > 0.50) & (part__both_50 ['2017_sat_participation'] > 0.50)\n",
    "mask_2018 = (part__both_50 ['2018_act_participation'] > 0.50) & (part__both_50 ['2018_sat_participation'] > 0.50)\n",
    "part_both_50 = part__both_50 [mask_2017 | mask_2018]\n",
    "\n",
    "# Re-order columns\n",
    "part_both_50.columns = ['state', '2017_act_participation', '2017_sat_participation','2018_sat_participation', '2018_act_participation']"
   ]
  },
  {
   "cell_type": "code",
   "execution_count": 21,
   "metadata": {},
   "outputs": [
    {
     "data": {
      "text/html": [
       "<div>\n",
       "<style scoped>\n",
       "    .dataframe tbody tr th:only-of-type {\n",
       "        vertical-align: middle;\n",
       "    }\n",
       "\n",
       "    .dataframe tbody tr th {\n",
       "        vertical-align: top;\n",
       "    }\n",
       "\n",
       "    .dataframe thead th {\n",
       "        text-align: right;\n",
       "    }\n",
       "</style>\n",
       "<table border=\"1\" class=\"dataframe\">\n",
       "  <thead>\n",
       "    <tr style=\"text-align: right;\">\n",
       "      <th></th>\n",
       "      <th>state</th>\n",
       "      <th>2017_act_participation</th>\n",
       "      <th>2017_sat_participation</th>\n",
       "      <th>2018_sat_participation</th>\n",
       "      <th>2018_act_participation</th>\n",
       "    </tr>\n",
       "  </thead>\n",
       "  <tbody>\n",
       "    <tr>\n",
       "      <th>9</th>\n",
       "      <td>Florida</td>\n",
       "      <td>0.73</td>\n",
       "      <td>0.66</td>\n",
       "      <td>0.83</td>\n",
       "      <td>0.97</td>\n",
       "    </tr>\n",
       "    <tr>\n",
       "      <th>10</th>\n",
       "      <td>Georgia</td>\n",
       "      <td>0.55</td>\n",
       "      <td>0.53</td>\n",
       "      <td>0.61</td>\n",
       "      <td>0.70</td>\n",
       "    </tr>\n",
       "    <tr>\n",
       "      <th>11</th>\n",
       "      <td>Hawaii</td>\n",
       "      <td>0.90</td>\n",
       "      <td>0.89</td>\n",
       "      <td>0.55</td>\n",
       "      <td>0.56</td>\n",
       "    </tr>\n",
       "    <tr>\n",
       "      <th>33</th>\n",
       "      <td>North Carolina</td>\n",
       "      <td>1.00</td>\n",
       "      <td>1.00</td>\n",
       "      <td>0.49</td>\n",
       "      <td>0.52</td>\n",
       "    </tr>\n",
       "    <tr>\n",
       "      <th>40</th>\n",
       "      <td>South Carolina</td>\n",
       "      <td>1.00</td>\n",
       "      <td>1.00</td>\n",
       "      <td>0.50</td>\n",
       "      <td>0.55</td>\n",
       "    </tr>\n",
       "  </tbody>\n",
       "</table>\n",
       "</div>"
      ],
      "text/plain": [
       "             state  2017_act_participation  2017_sat_participation  \\\n",
       "9          Florida                    0.73                    0.66   \n",
       "10         Georgia                    0.55                    0.53   \n",
       "11          Hawaii                    0.90                    0.89   \n",
       "33  North Carolina                    1.00                    1.00   \n",
       "40  South Carolina                    1.00                    1.00   \n",
       "\n",
       "    2018_sat_participation  2018_act_participation  \n",
       "9                     0.83                    0.97  \n",
       "10                    0.61                    0.70  \n",
       "11                    0.55                    0.56  \n",
       "33                    0.49                    0.52  \n",
       "40                    0.50                    0.55  "
      ]
     },
     "execution_count": 21,
     "metadata": {},
     "output_type": "execute_result"
    }
   ],
   "source": [
    "# Print DataFrame\n",
    "part_both_50\n"
   ]
  },
  {
   "cell_type": "markdown",
   "metadata": {},
   "source": [
    "Observations:\n",
    "- States with > 50% on both tests in 2017: Florida, Georgia, Hawaii, North Carolina and South Carolina\n",
    "- States with > 50% on both tests in 2018: Florida, Georgia, Hawaii, South Carolina (North Carolina is close)\n",
    "- In 2017 North Carolina and South Carolina had a participation rate of 100% for both tests (decreased to around 50% for each test in 2018)\n",
    "- Florida, Georgia, North Carolina and South Carolina are somewhat in the same geographical area\n",
    "\n",
    "Questions\n",
    "- Why do the same 5 states have more than almost >50% participation on both tests in both years? (Florida, Georgia, Hawaii, North Carolina and South Carolina)\n",
    "- Do South Carolina and North Carolina require students to take both tests?`m"
   ]
  },
  {
   "cell_type": "markdown",
   "metadata": {},
   "source": [
    "## Plot the Data"
   ]
  },
  {
   "cell_type": "code",
   "execution_count": 22,
   "metadata": {},
   "outputs": [
    {
     "data": {
      "image/png": "[encoded data removed]",
      "text/plain": [
       "<Figure size 432x288 with 1 Axes>"
      ]
     },
     "metadata": {
      "needs_background": "light"
     },
     "output_type": "display_data"
    },
    {
     "data": {
      "image/png": "[encoded data removed]",
      "text/plain": [
       "<Figure size 432x288 with 1 Axes>"
      ]
     },
     "metadata": {
      "needs_background": "light"
     },
     "output_type": "display_data"
    }
   ],
   "source": [
    "# Plot ACT 2017 and 2018 Participation Rates vs. Composite Scores\n",
    "plt.scatter(x = final['2017_act_participation'], \n",
    "            y = final['2017_act_composite'])\n",
    "plt.show()\n",
    "plt.scatter(x = final['2018_act_participation'], \n",
    "            y = final['2018_act_composite'])\n",
    "plt.show()"
   ]
  },
  {
   "cell_type": "code",
   "execution_count": 23,
   "metadata": {},
   "outputs": [
    {
     "data": {
      "image/png": "[encoded data removed]",
      "text/plain": [
       "<Figure size 432x288 with 1 Axes>"
      ]
     },
     "metadata": {
      "needs_background": "light"
     },
     "output_type": "display_data"
    },
    {
     "data": {
      "image/png": "[encoded data removed]",
      "text/plain": [
       "<Figure size 432x288 with 1 Axes>"
      ]
     },
     "metadata": {
      "needs_background": "light"
     },
     "output_type": "display_data"
    }
   ],
   "source": [
    "# Plot SAT 2017 and 2018 Participation Rates vs. Composite Scores\n",
    "plt.scatter(x = final['2017_sat_participation'], \n",
    "            y = final['2017_sat_total'])\n",
    "plt.title(\"2017 SAT Participation vs. Total\")\n",
    "plt.xlabel(\"2017 SAT Participation\")\n",
    "plt.ylabel(\"2017 SAT Total\")\n",
    "plt.show()\n",
    "plt.scatter(x = final['2018_sat_participation'], \n",
    "            y = final['2018_sat_total'])\n",
    "plt.title(\"2018 SAT Participation vs. Total\")\n",
    "plt.xlabel(\"2018 SAT Participation\")\n",
    "plt.ylabel(\"2018 SAT Total\")\n",
    "plt.show()"
   ]
  },
  {
   "cell_type": "markdown",
   "metadata": {},
   "source": [
    "Observations:\n",
    "- There appears to be an inverse relationship between particapation rate and total/composite score for both years (as the participation rate increases, the score decreases)"
   ]
  },
  {
   "cell_type": "code",
   "execution_count": 24,
   "metadata": {},
   "outputs": [
    {
     "data": {
      "image/png": "[encoded data removed]",
      "text/plain": [
       "<Figure size 576x576 with 2 Axes>"
      ]
     },
     "metadata": {
      "needs_background": "light"
     },
     "output_type": "display_data"
    }
   ],
   "source": [
    "# Create correlation heatmap\n",
    "# Reference: code is taken with minor modifcation from Matt Brehms (Principles of Data Visualization)\n",
    "\n",
    "test = final.copy()[['state', \n",
    "                     '2017_act_participation', '2017_sat_participation',\n",
    "                     '2018_sat_participation', '2018_act_participation', \n",
    "                     '2017_act_composite', '2017_sat_total',\n",
    "                     '2018_act_composite', '2018_sat_total']]\n",
    "\n",
    "# Establish size of figure.\n",
    "plt.figure(figsize=(8,8))\n",
    "\n",
    "corr = test.corr()\n",
    "\n",
    "# Set up mask to be \"True\" in the upper triangle.\n",
    "mask = np.zeros_like(corr)\n",
    "mask[np.triu_indices_from(mask)] = True # triu = upper triangle\n",
    "\n",
    "# Plot our correlation heatmap, while masking the upper triangle to be white.\n",
    "with sns.axes_style(\"white\"):\n",
    "    sns.heatmap(corr, mask=mask, vmax=.3, cmap='viridis',square=True, annot=True)\n",
    "plt.title(\"Heatmap for Correlation between Participation Rate \\n and Scores (ACT/SAT, 2017/2018)\");"
   ]
  },
  {
   "cell_type": "markdown",
   "metadata": {},
   "source": [
    "Observations:\n",
    "-  Positively Correlated (>0.89:\n",
    "    - 2018 SAT Participation vs. 2017 SAT Participation (0.89)\n",
    "    - 2018 ACT Participation vs. 2017 ACT Participation (0.92)\n",
    "    - 2018 ACT Composite vs. 2017 ACT Composite (0.94)\n",
    "    - 2018 SAT Total vs. 2017 SAT Total (0.92)\n",
    "-  Negatively Correlated (<-0.84):\n",
    "    - 2017 SAT Participation vs. 2017 ACT Participation (-0.84)\n",
    "    - 2018 SAT Participation vs. 2017 ACT Participation (-0.85)\n",
    "    - 2017 ACT Composite vs. 2017 ACT Participation (-.0.86)\n",
    "    - 2018 ACT Composite vs. 2018 ACT Participation (-.0.86)\n",
    "    - 2017 SAT Total vs. 2017 SAT Participation (-0.87)\n",
    "    - 2018 SAT Total vs. 2018 SAT Participation (-0.85)"
   ]
  },
  {
   "cell_type": "code",
   "execution_count": 25,
   "metadata": {},
   "outputs": [],
   "source": [
    "# Function to subplot histograms\n",
    "def subplot_histograms(dataframe, list_of_columns, list_of_titles, list_of_xlabels):\n",
    "    nrows = int(np.ceil(len(list_of_columns)/2))    \n",
    "    fig, ax = plt.subplots(nrows = nrows, \n",
    "                           ncols = 2, \n",
    "                           figsize = (15, 5*nrows))\n",
    "    ax = ax.ravel()                                 # Ravel turns a matrix into a vector, which is easier to iterate\n",
    "    for i, column in enumerate(list_of_columns):    # Gives us an index value to get into all our lists\n",
    "        ax[i].hist(dataframe[column])\n",
    "        ax[i].set_title(list_of_titles[i])          # set title for each subplot\n",
    "        ax[i].set_xlabel(list_of_xlabels[i])        # set labels for each subplot           "
   ]
  },
  {
   "cell_type": "code",
   "execution_count": 26,
   "metadata": {},
   "outputs": [
    {
     "data": {
      "image/png": "[encoded data removed]",
      "text/plain": [
       "<Figure size 1080x720 with 4 Axes>"
      ]
     },
     "metadata": {
      "needs_background": "light"
     },
     "output_type": "display_data"
    }
   ],
   "source": [
    "# Plot Participation rate histograms for SAT & ACT\n",
    "list_of_columns = ['2017_act_participation', '2018_act_participation', '2017_sat_participation', '2018_sat_participation']\n",
    "list_of_titles = [title.replace(\"_\", \" \") for title in list_of_columns]                   \n",
    "subplot_histograms(final, list_of_columns, list_of_titles, ['Participation Rate' for _ in range(4)])"
   ]
  },
  {
   "cell_type": "markdown",
   "metadata": {},
   "source": [
    "Observations:\n",
    "-   ACT (2017 & 2018) have a high concentration of states in the 0.9 - 1.0 participation rate bin\n",
    "-   SAT (2017 & 2018) have a high concentration of states in the 0.0 - 0.2 participation rate bin\n",
    "-   Are these the same states???"
   ]
  },
  {
   "cell_type": "code",
   "execution_count": 27,
   "metadata": {},
   "outputs": [
    {
     "data": {
      "image/png": "[encoded data removed]",
      "text/plain": [
       "<Figure size 1080x360 with 2 Axes>"
      ]
     },
     "metadata": {
      "needs_background": "light"
     },
     "output_type": "display_data"
    }
   ],
   "source": [
    "# Plot Math Scores for SAT & ACT (2017)\n",
    "subplot_histograms(final, \n",
    "                   ['2017_act_math','2017_sat_math'],\n",
    "                   ['2017 ACT Math Scores', '2017 SAT Math Scores'],\n",
    "                   ['Average ACT Math Score (per state)', 'Average SAT Math Score (per state)'])"
   ]
  },
  {
   "cell_type": "markdown",
   "metadata": {},
   "source": [
    "Observations:\n",
    "-   With different scales on the x-axis it is hard to compare the ACT to the SAT\n",
    "-   ACT Math: almost looks bimodal...around 19 and around 23.5\n",
    "-   SAT Math: highest concentration of scores around 525"
   ]
  },
  {
   "cell_type": "code",
   "execution_count": 28,
   "metadata": {},
   "outputs": [
    {
     "data": {
      "image/png": "[encoded data removed]",
      "text/plain": [
       "<Figure size 1080x360 with 2 Axes>"
      ]
     },
     "metadata": {
      "needs_background": "light"
     },
     "output_type": "display_data"
    }
   ],
   "source": [
    "# Plot Verbal/Reading Scores for SAT & ACT (2017)\n",
    "subplot_histograms(final, \n",
    "                   ['2017_act_reading','2017_sat_ebrw'],\n",
    "                   ['2017 ACT Reading Scores', '2017 SAT EBRW Scores'],\n",
    "                   ['Average ACT Reading Score (per state)', 'Average SAT EBRW Score (per state)'])"
   ]
  },
  {
   "cell_type": "markdown",
   "metadata": {},
   "source": [
    "Observations:\n",
    "-   With different scales on the x-axis it is hard to compare the ACT to the SAT\n",
    "-   ACT Reading: almost looks bimodal...around 21 and around 25\n",
    "-   SAT Reading: almost looks bimodal...around 540 and around 630"
   ]
  },
  {
   "cell_type": "code",
   "execution_count": 29,
   "metadata": {},
   "outputs": [],
   "source": [
    "# Function to create scatter plot\n",
    "def scatter_plot(df, x_col_name, y_col_name, title, x_label, y_label):\n",
    "    plt.figure(figsize=(10, 5))\n",
    "    plt.scatter(x = df[x_col_name], \n",
    "                y = df[y_col_name])\n",
    "    plt.title(title)\n",
    "    plt.xlabel(x_label)\n",
    "    plt.ylabel(y_label);"
   ]
  },
  {
   "cell_type": "code",
   "execution_count": 30,
   "metadata": {},
   "outputs": [
    {
     "data": {
      "image/png": "[encoded data removed]",
      "text/plain": [
       "<Figure size 720x360 with 1 Axes>"
      ]
     },
     "metadata": {
      "needs_background": "light"
     },
     "output_type": "display_data"
    }
   ],
   "source": [
    "# Plot SAT 2017 and 2018 Participation Rates vs. Composite Scores\n",
    "scatter_plot(final, '2017_sat_math', '2017_act_math', 'SAT vs. ACT Math Scores for 2017', \n",
    "             'SAT Math (2017)', 'ACT Math (2017')"
   ]
  },
  {
   "cell_type": "code",
   "execution_count": 31,
   "metadata": {},
   "outputs": [
    {
     "data": {
      "text/html": [
       "<div>\n",
       "<style scoped>\n",
       "    .dataframe tbody tr th:only-of-type {\n",
       "        vertical-align: middle;\n",
       "    }\n",
       "\n",
       "    .dataframe tbody tr th {\n",
       "        vertical-align: top;\n",
       "    }\n",
       "\n",
       "    .dataframe thead th {\n",
       "        text-align: right;\n",
       "    }\n",
       "</style>\n",
       "<table border=\"1\" class=\"dataframe\">\n",
       "  <thead>\n",
       "    <tr style=\"text-align: right;\">\n",
       "      <th></th>\n",
       "      <th>2017_sat_math</th>\n",
       "      <th>2017_act_math</th>\n",
       "    </tr>\n",
       "  </thead>\n",
       "  <tbody>\n",
       "    <tr>\n",
       "      <th>2017_sat_math</th>\n",
       "      <td>1.000000</td>\n",
       "      <td>-0.420456</td>\n",
       "    </tr>\n",
       "    <tr>\n",
       "      <th>2017_act_math</th>\n",
       "      <td>-0.420456</td>\n",
       "      <td>1.000000</td>\n",
       "    </tr>\n",
       "  </tbody>\n",
       "</table>\n",
       "</div>"
      ],
      "text/plain": [
       "               2017_sat_math  2017_act_math\n",
       "2017_sat_math       1.000000      -0.420456\n",
       "2017_act_math      -0.420456       1.000000"
      ]
     },
     "execution_count": 31,
     "metadata": {},
     "output_type": "execute_result"
    }
   ],
   "source": [
    "final[['2017_sat_math','2017_act_math']].corr()"
   ]
  },
  {
   "cell_type": "markdown",
   "metadata": {},
   "source": [
    "Observations:\n",
    "-   Correlation is slightly negative (-0.42), but not strong\n",
    "-   This tells us that those states that scored well on SAT Math did not necessarily score well on ACT Math"
   ]
  },
  {
   "cell_type": "code",
   "execution_count": 32,
   "metadata": {},
   "outputs": [
    {
     "data": {
      "image/png": "[encoded data removed]",
      "text/plain": [
       "<Figure size 720x360 with 1 Axes>"
      ]
     },
     "metadata": {
      "needs_background": "light"
     },
     "output_type": "display_data"
    }
   ],
   "source": [
    "# SAT vs. ACT verbal/reading scores for 2017\n",
    "scatter_plot(final, '2017_sat_ebrw', '2017_act_reading', 'SAT vs. ACT Reading/EBRW Scores for 2017', \n",
    "             'SAT EBRW (2017)', 'ACT Reading (2017')"
   ]
  },
  {
   "cell_type": "code",
   "execution_count": 33,
   "metadata": {},
   "outputs": [
    {
     "data": {
      "text/html": [
       "<div>\n",
       "<style scoped>\n",
       "    .dataframe tbody tr th:only-of-type {\n",
       "        vertical-align: middle;\n",
       "    }\n",
       "\n",
       "    .dataframe tbody tr th {\n",
       "        vertical-align: top;\n",
       "    }\n",
       "\n",
       "    .dataframe thead th {\n",
       "        text-align: right;\n",
       "    }\n",
       "</style>\n",
       "<table border=\"1\" class=\"dataframe\">\n",
       "  <thead>\n",
       "    <tr style=\"text-align: right;\">\n",
       "      <th></th>\n",
       "      <th>2017_sat_ebrw</th>\n",
       "      <th>2017_act_reading</th>\n",
       "    </tr>\n",
       "  </thead>\n",
       "  <tbody>\n",
       "    <tr>\n",
       "      <th>2017_sat_ebrw</th>\n",
       "      <td>1.000000</td>\n",
       "      <td>-0.488441</td>\n",
       "    </tr>\n",
       "    <tr>\n",
       "      <th>2017_act_reading</th>\n",
       "      <td>-0.488441</td>\n",
       "      <td>1.000000</td>\n",
       "    </tr>\n",
       "  </tbody>\n",
       "</table>\n",
       "</div>"
      ],
      "text/plain": [
       "                  2017_sat_ebrw  2017_act_reading\n",
       "2017_sat_ebrw          1.000000         -0.488441\n",
       "2017_act_reading      -0.488441          1.000000"
      ]
     },
     "execution_count": 33,
     "metadata": {},
     "output_type": "execute_result"
    }
   ],
   "source": [
    "final[['2017_sat_ebrw','2017_act_reading']].corr()"
   ]
  },
  {
   "cell_type": "markdown",
   "metadata": {},
   "source": [
    "Observations:\n",
    "-   Correlation is slightly negative (-0.49), but not strong\n",
    "-   This tells us that those states that scored well on SAT Reading did not necessarily score well on ACT Reading"
   ]
  },
  {
   "cell_type": "code",
   "execution_count": 34,
   "metadata": {},
   "outputs": [
    {
     "data": {
      "image/png": "[encoded data removed]",
      "text/plain": [
       "<Figure size 720x360 with 1 Axes>"
      ]
     },
     "metadata": {
      "needs_background": "light"
     },
     "output_type": "display_data"
    }
   ],
   "source": [
    "# SAT vs. ACT total/composite scores for 2017\n",
    "scatter_plot(final, '2017_sat_total', '2017_act_composite', 'SAT vs. ACT Total/Composite Scores for 2017', \n",
    "             'SAT Total (2017)', 'ACT Composite (2017')"
   ]
  },
  {
   "cell_type": "code",
   "execution_count": 35,
   "metadata": {},
   "outputs": [
    {
     "data": {
      "text/html": [
       "<div>\n",
       "<style scoped>\n",
       "    .dataframe tbody tr th:only-of-type {\n",
       "        vertical-align: middle;\n",
       "    }\n",
       "\n",
       "    .dataframe tbody tr th {\n",
       "        vertical-align: top;\n",
       "    }\n",
       "\n",
       "    .dataframe thead th {\n",
       "        text-align: right;\n",
       "    }\n",
       "</style>\n",
       "<table border=\"1\" class=\"dataframe\">\n",
       "  <thead>\n",
       "    <tr style=\"text-align: right;\">\n",
       "      <th></th>\n",
       "      <th>2017_sat_total</th>\n",
       "      <th>2017_act_composite</th>\n",
       "    </tr>\n",
       "  </thead>\n",
       "  <tbody>\n",
       "    <tr>\n",
       "      <th>2017_sat_total</th>\n",
       "      <td>1.00000</td>\n",
       "      <td>-0.44502</td>\n",
       "    </tr>\n",
       "    <tr>\n",
       "      <th>2017_act_composite</th>\n",
       "      <td>-0.44502</td>\n",
       "      <td>1.00000</td>\n",
       "    </tr>\n",
       "  </tbody>\n",
       "</table>\n",
       "</div>"
      ],
      "text/plain": [
       "                    2017_sat_total  2017_act_composite\n",
       "2017_sat_total             1.00000            -0.44502\n",
       "2017_act_composite        -0.44502             1.00000"
      ]
     },
     "execution_count": 35,
     "metadata": {},
     "output_type": "execute_result"
    }
   ],
   "source": [
    "final[['2017_sat_total','2017_act_composite']].corr()"
   ]
  },
  {
   "cell_type": "markdown",
   "metadata": {},
   "source": [
    "Observations:\n",
    "-   Correlation is slightly negative (-0.44), but not strong\n",
    "-   Correlation is similar to that of the Reading and Math sections\n",
    "-   This negative correlation is important for states to know if they are considering switching between tests as there are differences within the tests"
   ]
  },
  {
   "cell_type": "code",
   "execution_count": 36,
   "metadata": {},
   "outputs": [
    {
     "data": {
      "image/png": "[encoded data removed]",
      "text/plain": [
       "<Figure size 720x360 with 1 Axes>"
      ]
     },
     "metadata": {
      "needs_background": "light"
     },
     "output_type": "display_data"
    },
    {
     "data": {
      "image/png": "[encoded data removed]",
      "text/plain": [
       "<Figure size 720x360 with 1 Axes>"
      ]
     },
     "metadata": {
      "needs_background": "light"
     },
     "output_type": "display_data"
    }
   ],
   "source": [
    "# Total scores for SAT 2017 vs. 2018\n",
    "scatter_plot(final, '2017_sat_total', '2018_sat_total', 'SAT Total Scores 2017 vs. 2018', \n",
    "             'SAT Total (2017)', 'SAT Total (2018)')\n",
    "plt.show()\n",
    "# Composite scores for ACT 2017 vs. 2018\n",
    "scatter_plot(final, '2017_act_composite', '2018_act_composite', 'ACT Composite Scores 2017 vs. 2018', \n",
    "             'ACT Composite (2017)', 'ACT Composite (2018)')\n",
    "plt.show()"
   ]
  },
  {
   "cell_type": "markdown",
   "metadata": {},
   "source": [
    "Observations:\n",
    "-  SAT scores between 2017 and 2018 are highly positively correlated - those states that did well one year, did well the next as well (generally)\n",
    "-   ACT scores between 2017 and 2018 are highly positively correlated - those states that did well one year, did well the next as well (generally)"
   ]
  },
  {
   "cell_type": "code",
   "execution_count": 37,
   "metadata": {},
   "outputs": [
    {
     "data": {
      "image/png": "[encoded data removed]",
      "text/plain": [
       "<Figure size 720x360 with 1 Axes>"
      ]
     },
     "metadata": {
      "needs_background": "light"
     },
     "output_type": "display_data"
    }
   ],
   "source": [
    "# SAT 2017 vs. SAT 2018 Participation\n",
    "scatter_plot(final, '2017_sat_participation', '2018_sat_participation', 'SAT 2017 vs. SAT 2018 Participation', \n",
    "             '2017 SAT Participation', '2018 SAT Participation')\n",
    "plt.show()"
   ]
  },
  {
   "cell_type": "markdown",
   "metadata": {},
   "source": [
    "Observations:\n",
    "- There is a very strong positive correlation between participation years over year\n",
    "- There are two outliers where participation improved drastically between 2017 to 2018"
   ]
  },
  {
   "cell_type": "code",
   "execution_count": 38,
   "metadata": {},
   "outputs": [
    {
     "data": {
      "text/html": [
       "<div>\n",
       "<style scoped>\n",
       "    .dataframe tbody tr th:only-of-type {\n",
       "        vertical-align: middle;\n",
       "    }\n",
       "\n",
       "    .dataframe tbody tr th {\n",
       "        vertical-align: top;\n",
       "    }\n",
       "\n",
       "    .dataframe thead th {\n",
       "        text-align: right;\n",
       "    }\n",
       "</style>\n",
       "<table border=\"1\" class=\"dataframe\">\n",
       "  <thead>\n",
       "    <tr style=\"text-align: right;\">\n",
       "      <th></th>\n",
       "      <th>state</th>\n",
       "      <th>2017_sat_participation</th>\n",
       "      <th>2017_sat_ebrw</th>\n",
       "      <th>2017_sat_math</th>\n",
       "      <th>2017_sat_total</th>\n",
       "      <th>2017_act_participation</th>\n",
       "      <th>2017_act_english</th>\n",
       "      <th>2017_act_math</th>\n",
       "      <th>2017_act_reading</th>\n",
       "      <th>2017_act_science</th>\n",
       "      <th>2017_act_composite</th>\n",
       "      <th>2018_sat_participation</th>\n",
       "      <th>2018_sat_ebrw</th>\n",
       "      <th>2018_sat_math</th>\n",
       "      <th>2018_sat_total</th>\n",
       "      <th>2018_act_participation</th>\n",
       "      <th>2018_act_composite</th>\n",
       "    </tr>\n",
       "  </thead>\n",
       "  <tbody>\n",
       "    <tr>\n",
       "      <th>5</th>\n",
       "      <td>Colorado</td>\n",
       "      <td>0.11</td>\n",
       "      <td>606</td>\n",
       "      <td>595</td>\n",
       "      <td>1201</td>\n",
       "      <td>1.00</td>\n",
       "      <td>20.1</td>\n",
       "      <td>20.3</td>\n",
       "      <td>21.2</td>\n",
       "      <td>20.9</td>\n",
       "      <td>20.8</td>\n",
       "      <td>1.00</td>\n",
       "      <td>519</td>\n",
       "      <td>506</td>\n",
       "      <td>1025</td>\n",
       "      <td>0.30</td>\n",
       "      <td>23.9</td>\n",
       "    </tr>\n",
       "    <tr>\n",
       "      <th>13</th>\n",
       "      <td>Illinois</td>\n",
       "      <td>0.09</td>\n",
       "      <td>559</td>\n",
       "      <td>556</td>\n",
       "      <td>1115</td>\n",
       "      <td>0.93</td>\n",
       "      <td>21.0</td>\n",
       "      <td>21.2</td>\n",
       "      <td>21.6</td>\n",
       "      <td>21.3</td>\n",
       "      <td>21.4</td>\n",
       "      <td>0.99</td>\n",
       "      <td>513</td>\n",
       "      <td>506</td>\n",
       "      <td>1019</td>\n",
       "      <td>0.43</td>\n",
       "      <td>23.9</td>\n",
       "    </tr>\n",
       "  </tbody>\n",
       "</table>\n",
       "</div>"
      ],
      "text/plain": [
       "       state  2017_sat_participation  2017_sat_ebrw  2017_sat_math  \\\n",
       "5   Colorado                    0.11            606            595   \n",
       "13  Illinois                    0.09            559            556   \n",
       "\n",
       "    2017_sat_total  2017_act_participation  2017_act_english  2017_act_math  \\\n",
       "5             1201                    1.00              20.1           20.3   \n",
       "13            1115                    0.93              21.0           21.2   \n",
       "\n",
       "    2017_act_reading  2017_act_science  2017_act_composite  \\\n",
       "5               21.2              20.9                20.8   \n",
       "13              21.6              21.3                21.4   \n",
       "\n",
       "    2018_sat_participation  2018_sat_ebrw  2018_sat_math  2018_sat_total  \\\n",
       "5                     1.00            519            506            1025   \n",
       "13                    0.99            513            506            1019   \n",
       "\n",
       "    2018_act_participation  2018_act_composite  \n",
       "5                     0.30                23.9  \n",
       "13                    0.43                23.9  "
      ]
     },
     "execution_count": 38,
     "metadata": {},
     "output_type": "execute_result"
    }
   ],
   "source": [
    "# Look at the two outliers\n",
    "final[(final['2017_sat_participation'] < 0.2) & (final['2018_sat_participation'] > 0.9)]"
   ]
  },
  {
   "cell_type": "code",
   "execution_count": 39,
   "metadata": {},
   "outputs": [
    {
     "data": {
      "image/png": "[encoded data removed]",
      "text/plain": [
       "<Figure size 432x288 with 1 Axes>"
      ]
     },
     "metadata": {
      "needs_background": "light"
     },
     "output_type": "display_data"
    },
    {
     "data": {
      "image/png": "[encoded data removed]",
      "text/plain": [
       "<Figure size 432x288 with 1 Axes>"
      ]
     },
     "metadata": {
      "needs_background": "light"
     },
     "output_type": "display_data"
    }
   ],
   "source": [
    "# SAT and ACT Totals\n",
    "sns.boxplot(data=final[['2017_sat_total', '2018_sat_total']], orient='h').set_title('SAT Total 2017 vs. 2018')\n",
    "plt.xlabel('SAT Total Score')\n",
    "plt.show()\n",
    "\n",
    "sns.boxplot(data=final[['2017_act_composite', '2018_act_composite']], orient='h').set_title('ACT Composite 2017 vs. 2018')\n",
    "plt.xlabel('ACT Composite Score')\n",
    "plt.show();"
   ]
  },
  {
   "cell_type": "markdown",
   "metadata": {},
   "source": [
    "Observations:\n",
    "-  Both tests have similar spreads for both years (similar IQR)"
   ]
  },
  {
   "cell_type": "code",
   "execution_count": 40,
   "metadata": {},
   "outputs": [
    {
     "data": {
      "image/png": "[encoded data removed]",
      "text/plain": [
       "<Figure size 432x288 with 1 Axes>"
      ]
     },
     "metadata": {
      "needs_background": "light"
     },
     "output_type": "display_data"
    }
   ],
   "source": [
    "# SAT and ACT Participation for 2017 and 2018\n",
    "sns.boxplot(data=final[['2017_sat_participation', '2018_sat_participation', '2017_act_participation', '2018_act_participation']], \n",
    "            orient='h').set_title('SAT & ACT Participation for 2017 and 2018')\n",
    "plt.xlabel('Participation Rate');"
   ]
  },
  {
   "cell_type": "markdown",
   "metadata": {},
   "source": [
    "Observation:\n",
    "- SAT Participation Rate spread is lower than that of ACT\n",
    "     -  SAT: ~ 0.0 to 0.6\n",
    "     -  ACT: ~ 0.3 to 1.0"
   ]
  },
  {
   "cell_type": "code",
   "execution_count": 41,
   "metadata": {},
   "outputs": [
    {
     "data": {
      "image/png": "[encoded data removed]",
      "text/plain": [
       "<Figure size 432x288 with 1 Axes>"
      ]
     },
     "metadata": {
      "needs_background": "light"
     },
     "output_type": "display_data"
    }
   ],
   "source": [
    "# SAT and Math & EBRW for 2017 and 2018\n",
    "sns.boxplot(data=final[['2017_sat_math', '2018_sat_math', '2017_sat_ebrw', '2018_sat_ebrw']], \n",
    "            orient='h').set_title('SAT Math & EBRW 2017 vs. 2018')\n",
    "plt.xlabel('SAT Math and EBRW Scores');"
   ]
  },
  {
   "cell_type": "markdown",
   "metadata": {},
   "source": [
    "Observations:\n",
    "-  Math distributions are slighly lower than EBRW Distribtions (people scoring better on EBRW generally)"
   ]
  },
  {
   "cell_type": "code",
   "execution_count": 42,
   "metadata": {},
   "outputs": [
    {
     "data": {
      "image/png": "[encoded data removed]",
      "text/plain": [
       "<Figure size 432x288 with 1 Axes>"
      ]
     },
     "metadata": {
      "needs_background": "light"
     },
     "output_type": "display_data"
    }
   ],
   "source": [
    "# ACT Math, Science, English, Reading for 2017\n",
    "sns.boxplot(data=final[['2017_act_math', '2017_act_science', '2017_act_english', '2017_act_reading']], \n",
    "            orient='h').set_title('ACT Math, Science, English, Reading for 2017')\n",
    "plt.xlabel('ACT Section Score');"
   ]
  },
  {
   "cell_type": "markdown",
   "metadata": {},
   "source": [
    "Observations:\n",
    "   - Students tend to do best on the ACT reading\n",
    "   - Math, Science, and English sections have similar spreads, with science having the highest low"
   ]
  },
  {
   "cell_type": "markdown",
   "metadata": {},
   "source": [
    "## Summarize Distributions"
   ]
  },
  {
   "cell_type": "markdown",
   "metadata": {},
   "source": [
    "|Feature|Distribution|\n",
    "|---|---|\n",
    "|2017_act_participation|The 2017 ACT participation is skewed towards the right with two peaks - one around 0.3, and a larger one at 1.0. These peaks align with the IQR (0.31-1.0). The median falls in the middle of the IQR. All the outlies lie between 0.08 and 0.31|\n",
    "|2017_act_english|The 2017 ACT English has both a similar mean and median (20.7/20.9) and has quite a few outliers that lie on either side of the IQR (16.3-19.0 and 23.3 to 25.5)|\n",
    "|2017_act_math|The 2017 ACT Math shows a large group of scores between 18 and 21.5 and a smaller group of score sbetween 21.5 and 25. The median and mean both fall into the first group of scores (20.9/21.2)|\n",
    "|2017_act_reading|The 2017 ACT Reading scores show three peaks - at 20.5, 22 and 24.5 with the larges peak being the lowest score (20.5 - the median Is 20.45) and the smallest peak being the middle (22.0 - the mean is 22.0)|\n",
    "|2017_act_science|The 2017 ACT Science scores show a smaller IQR (19.95-23.2) as well as a smaller range of outlies (18.2-19.95 nad 23.2 to 24.9). The median (21.3) is near the middle, but falls to the left side of the IQR|\n",
    "|2017_act_composite|The 2017 ACT Composite scores have a median (19.8) that fall right in the middle of IQR (17.8-21.4). The scores falling out of this raange follow a simialr range on both sides|\n",
    "|2017_sat_participation|The 2017 SAT participation shows scores more toward the left, with la large peak at 0.0-0.1 (smaller peaks at 0.7 and 1.0). The IQR is skewed to the kleft at 0.04 -0.66 with all scores above 0.66 being outliers|\n",
    "|2017_sat_ebrw|The SAT EBRW scores have a somewhat bimodal distribution where there is a paek at 540 and slightly smaller peak around 640. The median (533) falls more toward the left (larger peak at 540)|\n",
    "|2017_sat_math|The SAT Math scores show the largest peak around 525 with many states falling in that area. The spread is centered with the median falling to the left side of the spread (599)|\n",
    "|2017_sat_total|For the 2018 SAT totals while there is a somewhat equal range of outlies on either side of the spread (1055.5-12.12) the median (1107) falls to the left side of the spread|\n",
    "|2018_act_participation|The 2018 ACT participation is skewed more to the right (similar distribution to 2017 ACT), with outliers only falling to the left of the IQR (outlies 0.0-0.3)|\n",
    "|2018_act_composite|The 2018 ACT composite shows ane even spread  (19.95-23.65, centered in the middle between the max and the min, but the median is toward the left of the spread (21.3)|\n",
    "|2018_sat_participation|The 2018 SAT participation is shifted more towards the left with a large peak at 0.0-0.1. The IQR of 2018 sat participation is larger than that of 2017 with outliers only falling into the 0.8-1.0 range|\n",
    "|2018_sat_ebrw|The SAT EBRW scores show outlies on both sides of the spread, but less than in 2018 and the median is more to the left of the IQR|\n",
    "|2018_sat_math|The 2018 SAT Math shows a very similar distribution to that of the 2017 SAT Math scores|\n",
    "|2018_sat_total|The 2018 SAT totals shows a smaller range of outliers, but the merdian falls further to the left in the IQR|"
   ]
  }
 ],
 "metadata": {
  "kernelspec": {
   "display_name": "Python 3",
   "language": "python",
   "name": "python3"
  },
  "language_info": {
   "codemirror_mode": {
    "name": "ipython",
    "version": 3
   },
   "file_extension": ".py",
   "mimetype": "text/x-python",
   "name": "python",
   "nbconvert_exporter": "python",
   "pygments_lexer": "ipython3",
   "version": "3.6.8"
  }
 },
 "nbformat": 4,
 "nbformat_minor": 2
}
